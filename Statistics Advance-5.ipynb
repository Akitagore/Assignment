{
 "cells": [
  {
   "cell_type": "markdown",
   "id": "a53d1496",
   "metadata": {},
   "source": [
    "### Q1. Calculate the 95% confidence interval for a sample of data with a mean of 50 and a standard deviation of 5 using Python. Interpret the results."
   ]
  },
  {
   "cell_type": "code",
   "execution_count": 1,
   "id": "fe5fe6b0",
   "metadata": {},
   "outputs": [
    {
     "name": "stdout",
     "output_type": "stream",
     "text": [
      "95% Confidence Interval: (49.02, 50.98)\n"
     ]
    }
   ],
   "source": [
    "import scipy.stats as stats\n",
    "\n",
    "# Given data\n",
    "mean = 50\n",
    "std_dev = 5\n",
    "confidence_level = 0.95  # 95% confidence interval\n",
    "\n",
    "# Sample size (assuming a large enough sample size for the z-distribution)\n",
    "sample_size = 100\n",
    "\n",
    "# Calculate the standard error of the mean\n",
    "standard_error = std_dev / (sample_size**0.5)\n",
    "\n",
    "# Calculate the margin of error using the z-score for the desired confidence level\n",
    "z_score = stats.norm.ppf((1 + confidence_level) / 2)  # 2-tailed test\n",
    "margin_of_error = z_score * standard_error\n",
    "\n",
    "# Calculate the confidence interval\n",
    "lower_bound = mean - margin_of_error\n",
    "upper_bound = mean + margin_of_error\n",
    "\n",
    "# Print the results\n",
    "print(f\"95% Confidence Interval: ({lower_bound:.2f}, {upper_bound:.2f})\")"
   ]
  },
  {
   "cell_type": "markdown",
   "id": "ead83395",
   "metadata": {},
   "source": [
    "The 95% confidence interval for the given sample data with a mean of 50 and a standard deviation of 5 is a range between the lower bound and upper bound. It implies that if we were to take many samples and construct a confidence interval for the population mean from each sample, we would expect about 95% of those intervals to contain the true population mean. In this specific case, we are 95% confident that the true population mean lies within the interval (lower_bound, upper_bound)."
   ]
  },
  {
   "cell_type": "markdown",
   "id": "a9745122",
   "metadata": {},
   "source": [
    "### Q2. Conduct a chi-square goodness of fit test to determine if the distribution of colors of M&Ms in a bag matches the expected distribution of 20% blue, 20% orange, 20% green, 10% yellow, 10% red, and 20% brown. Use Python to perform the test with a significance level of 0.05."
   ]
  },
  {
   "cell_type": "code",
   "execution_count": 3,
   "id": "88795441",
   "metadata": {},
   "outputs": [
    {
     "name": "stdout",
     "output_type": "stream",
     "text": [
      "Chi-square Statistic: 2.5000\n",
      "P-value: 0.7765\n",
      "Fail to reject the null hypothesis. The distribution of colors is consistent.\n"
     ]
    }
   ],
   "source": [
    "import numpy as np\n",
    "from scipy.stats import chisquare\n",
    "\n",
    "# Observed frequencies of colors in the M&Ms bag\n",
    "observed_frequencies = np.array([25, 15, 20, 10, 10, 20])  # Replace with your actual data\n",
    "\n",
    "# Expected frequencies based on the expected distribution\n",
    "expected_frequencies = np.array([0.2, 0.2, 0.2, 0.1, 0.1, 0.2]) * np.sum(observed_frequencies)\n",
    "\n",
    "# Perform the chi-square goodness of fit test\n",
    "chi2_stat, p_value = chisquare(f_obs=observed_frequencies, f_exp=expected_frequencies)\n",
    "\n",
    "# Output the results\n",
    "print(f\"Chi-square Statistic: {chi2_stat:.4f}\")\n",
    "print(f\"P-value: {p_value:.4f}\")\n",
    "\n",
    "# Check for significance at the 0.05 level\n",
    "alpha = 0.05\n",
    "if p_value < alpha:\n",
    "    print(\"Reject the null hypothesis. The distribution of colors is significantly different.\")\n",
    "else:\n",
    "    print(\"Fail to reject the null hypothesis. The distribution of colors is consistent.\")"
   ]
  },
  {
   "cell_type": "markdown",
   "id": "894a4f1d",
   "metadata": {},
   "source": [
    "Observed_frequencies should be replaced with the actual observed frequencies of each color in your M&Ms bag.\n",
    "Expected_frequencies are calculated based on the expected distribution.\n",
    "The chisquare function from scipy.stats performs the chi-square test, and the results include the chi-square statistic and the p-value. The null hypothesis is that the observed distribution matches the expected distribution.\n",
    "Conclude that the distribution of colors in the M&Ms bag is consistent with the expected distribution. In other words, there is not enough evidence to suggest that the observed frequencies significantly differ from the expected frequencies, and the M&Ms colors appear to follow the specified distribution."
   ]
  },
  {
   "cell_type": "markdown",
   "id": "7bae0a7c",
   "metadata": {},
   "source": [
    "### Q4. A study of the prevalence of smoking in a population of 500 individuals found that 60 individuals smoked. Use Python to calculate the 95% confidence interval for the true proportion of individuals in the population who smoke."
   ]
  },
  {
   "cell_type": "markdown",
   "id": "aaebbca4",
   "metadata": {},
   "source": [
    "To calculate the 95% confidence interval for the true proportion of individuals in the population who smoke, you can use the formula for the confidence interval for a proportion. The formula is:\n",
    "Cofidence Interval = p^+-Z*sqrt(p^(1-p^)/n)\n",
    "p^ is the sample proportion (the proportion of individuals in the sample who smoke),\n",
    "Z is the Z-score corresponding to the desired confidence level (for a 95% confidence interval, Z≈1.96),\n",
    "n is the sample size.\n",
    "Sample proportion (p^) is 60/500,\n",
    "Z-score (Z) is 1.96 for a 95% confidence interval,\n",
    "Sample size (n) is 500."
   ]
  },
  {
   "cell_type": "code",
   "execution_count": 4,
   "id": "9b95c599",
   "metadata": {},
   "outputs": [
    {
     "name": "stdout",
     "output_type": "stream",
     "text": [
      "95% Confidence Interval: [0.0915, 0.1485]\n"
     ]
    }
   ],
   "source": [
    "import math\n",
    "\n",
    "# Given data\n",
    "sample_proportion = 60 / 500\n",
    "confidence_level = 0.95\n",
    "z_score = 1.96  # Z-score for 95% confidence interval\n",
    "sample_size = 500\n",
    "\n",
    "# Calculate standard error\n",
    "standard_error = math.sqrt((sample_proportion * (1 - sample_proportion)) / sample_size)\n",
    "\n",
    "# Calculate margin of error\n",
    "margin_of_error = z_score * standard_error\n",
    "\n",
    "# Calculate confidence interval\n",
    "lower_bound = sample_proportion - margin_of_error\n",
    "upper_bound = sample_proportion + margin_of_error\n",
    "\n",
    "# Display the result\n",
    "print(f\"95% Confidence Interval: [{lower_bound:.4f}, {upper_bound:.4f}]\")"
   ]
  },
  {
   "cell_type": "markdown",
   "id": "241a3781",
   "metadata": {},
   "source": [
    "### Q5. Calculate the 90% confidence interval for a sample of data with a mean of 75 and a standard deviation of 12 using Python. Interpret the results."
   ]
  },
  {
   "cell_type": "markdown",
   "id": "091681be",
   "metadata": {},
   "source": [
    "To calculate the 90% confidence interval for a sample mean in Python, you can use the scipy.stats module. The formula for the confidence interval is:\n",
    "Confidence Interval = bar x =-(z*(s/sqrt n))\n",
    "where:\n",
    "ˉxis the sample mean,\n",
    "s is the sample standard deviation,\n",
    "n is the sample size,\n",
    "z is the Z-score corresponding to the desired confidence level.\n",
    "For a 90% confidence interval, z is approximately 1.645."
   ]
  },
  {
   "cell_type": "code",
   "execution_count": 5,
   "id": "ada6acdd",
   "metadata": {},
   "outputs": [
    {
     "name": "stdout",
     "output_type": "stream",
     "text": [
      "90% Confidence Interval: (71.40, 78.60)\n"
     ]
    }
   ],
   "source": [
    "from scipy import stats\n",
    "import numpy as np\n",
    "\n",
    "# Given data\n",
    "sample_mean = 75\n",
    "sample_std_dev = 12\n",
    "confidence_level = 0.90\n",
    "sample_size = 30  # You should replace this with the actual sample size\n",
    "\n",
    "# Calculate the margin of error\n",
    "z_score = stats.norm.ppf(1 - (1 - confidence_level) / 2)\n",
    "margin_of_error = z_score * (sample_std_dev / np.sqrt(sample_size))\n",
    "\n",
    "# Calculate the confidence interval\n",
    "lower_bound = sample_mean - margin_of_error\n",
    "upper_bound = sample_mean + margin_of_error\n",
    "\n",
    "# Display the result\n",
    "print(f\"90% Confidence Interval: ({lower_bound:.2f}, {upper_bound:.2f})\")"
   ]
  },
  {
   "cell_type": "markdown",
   "id": "ce5ba838",
   "metadata": {},
   "source": [
    "The 90% confidence interval for the sample mean of 75, with a standard deviation of 12 and a sample size of 30, is (71.40, 78.60). This result implies that we are 90% confident that the true population mean falls within this interval. In other words, if we were to take many samples and compute a 90% confidence interval for each sample mean, we would expect the true population mean to be captured by the interval in approximately 90% of those intervals."
   ]
  },
  {
   "cell_type": "markdown",
   "id": "024cf26a",
   "metadata": {},
   "source": [
    "### Q6. Use Python to plot the chi-square distribution with 10 degrees of freedom. Label the axes and shade the area corresponding to a chi-square statistic of 15."
   ]
  },
  {
   "cell_type": "code",
   "execution_count": 6,
   "id": "131be7c0",
   "metadata": {},
   "outputs": [
    {
     "data": {
      "image/png": "[encoded data removed]",
      "text/plain": [
       "<Figure size 640x480 with 1 Axes>"
      ]
     },
     "metadata": {},
     "output_type": "display_data"
    }
   ],
   "source": [
    "import numpy as np\n",
    "import matplotlib.pyplot as plt\n",
    "import scipy.stats as stats\n",
    "\n",
    "# Parameters\n",
    "degrees_of_freedom = 10\n",
    "chi_square_statistic = 15\n",
    "\n",
    "# Generate values for the x-axis\n",
    "x_values = np.linspace(0, 30, 1000)\n",
    "\n",
    "# Plot the chi-square distribution\n",
    "plt.plot(x_values, stats.chi2.pdf(x_values, degrees_of_freedom), label=f'Chi-square with {degrees_of_freedom} DF')\n",
    "\n",
    "# Shade the area corresponding to the chi-square statistic of 15\n",
    "x_fill = np.linspace(0, chi_square_statistic, 100)\n",
    "plt.fill_between(x_fill, stats.chi2.pdf(x_fill, degrees_of_freedom), color='red', alpha=0.3, label='Shaded Area (statistic = 15)')\n",
    "\n",
    "# Label the axes and add a legend\n",
    "plt.xlabel('Chi-square Value')\n",
    "plt.ylabel('Probability Density Function')\n",
    "plt.title(f'Chi-square Distribution with {degrees_of_freedom} Degrees of Freedom')\n",
    "plt.legend()\n",
    "\n",
    "# Display the plot\n",
    "plt.show()"
   ]
  },
  {
   "cell_type": "markdown",
   "id": "9dc95531",
   "metadata": {},
   "source": [
    "### Q7. A random sample of 1000 people was asked if they preferred Coke or Pepsi. Of the sample, 520 preferred Coke. Calculate a 99% confidence interval for the true proportion of people in the population who prefer Coke."
   ]
  },
  {
   "cell_type": "code",
   "execution_count": 7,
   "id": "bc535e52",
   "metadata": {},
   "outputs": [
    {
     "name": "stdout",
     "output_type": "stream",
     "text": [
      "99% Confidence Interval: [0.4793, 0.5607]\n"
     ]
    }
   ],
   "source": [
    "import math\n",
    "\n",
    "# Given data\n",
    "sample_proportion = 520 / 1000\n",
    "confidence_level = 0.99\n",
    "z_score = 2.576  # Z-score for 99% confidence interval\n",
    "sample_size = 1000\n",
    "\n",
    "# Calculate standard error\n",
    "standard_error = math.sqrt((sample_proportion * (1 - sample_proportion)) / sample_size)\n",
    "\n",
    "# Calculate margin of error\n",
    "margin_of_error = z_score * standard_error\n",
    "\n",
    "# Calculate confidence interval\n",
    "lower_bound = sample_proportion - margin_of_error\n",
    "upper_bound = sample_proportion + margin_of_error\n",
    "\n",
    "# Display the result\n",
    "print(f\"99% Confidence Interval: [{lower_bound:.4f}, {upper_bound:.4f}]\")"
   ]
  },
  {
   "cell_type": "markdown",
   "id": "13234e40",
   "metadata": {},
   "source": [
    "The 99% confidence interval for the true proportion of people in the population who prefer Coke, based on the sample of 1000 people where 520 preferred Coke, is approximately [0.4793, 0.5607]. This interval suggests that we can be 99% confident that the true proportion of people who prefer Coke falls within this range. In other words, if we were to take many samples and compute a 99% confidence interval for each sample proportion, we would expect the true population proportion to be captured by the interval in approximately 99% of those intervals.\n",
    "In practical terms, this means that based on the sample data, we can reasonably estimate that the true proportion of people in the population who prefer Coke is likely to be within the range of 0.4793 to 0.5607."
   ]
  },
  {
   "cell_type": "markdown",
   "id": "c4246b47",
   "metadata": {},
   "source": [
    "### Q8. A researcher hypothesizes that a coin is biased towards tails. They flip the coin 100 times and observe45 tails. Conduct a chi-square goodness of fit test to determine if the observed frequencies match theexpected frequencies of a fair coin. Use a significance level of 0.05."
   ]
  },
  {
   "cell_type": "code",
   "execution_count": 9,
   "id": "3a7f1a66",
   "metadata": {},
   "outputs": [
    {
     "name": "stdout",
     "output_type": "stream",
     "text": [
      "Chi-square statistic: 1.0000\n",
      "P-value: 0.3173\n",
      "Fail to reject the null hypothesis. There is no evidence that the coin is biased towards tails.\n"
     ]
    }
   ],
   "source": [
    "import numpy as np\n",
    "from scipy.stats import chisquare\n",
    "\n",
    "# Given data\n",
    "observed_tails = 45\n",
    "total_flips = 100\n",
    "expected_tails = total_flips / 2  # Expected tails for a fair coin\n",
    "\n",
    "# Observed frequencies\n",
    "observed_frequencies = np.array([observed_tails, total_flips - observed_tails])\n",
    "\n",
    "# Expected frequencies\n",
    "expected_frequencies = np.array([expected_tails, total_flips - expected_tails])\n",
    "\n",
    "# Perform chi-square goodness-of-fit test\n",
    "chi2_stat, p_value = chisquare(f_obs=observed_frequencies, f_exp=expected_frequencies)\n",
    "\n",
    "# Compare p-value with significance level\n",
    "alpha = 0.05\n",
    "print(f\"Chi-square statistic: {chi2_stat:.4f}\")\n",
    "print(f\"P-value: {p_value:.4f}\")\n",
    "\n",
    "if p_value < alpha:\n",
    "    print(\"Reject the null hypothesis. The coin is biased towards tails.\")\n",
    "else:\n",
    "    print(\"Fail to reject the null hypothesis. There is no evidence that the coin is biased towards tails.\")\n"
   ]
  },
  {
   "cell_type": "markdown",
   "id": "3eea7a8a",
   "metadata": {},
   "source": [
    "Since the p-value (0.3173) is greater than the chosen significance level (0.05), we fail to reject the null hypothesis. Therefore, there is no statistically significant evidence to conclude that the coin is biased towards tails. The observed frequencies do not significantly differ from the expected frequencies based on a fair coin, and we cannot reject the idea that the coin is fair."
   ]
  },
  {
   "cell_type": "markdown",
   "id": "1663a2db",
   "metadata": {},
   "source": [
    "### Q11. A random sample of 30 people was selected from a population with an unknown mean and standard deviation. The sample mean was found to be 72 and the sample standard deviation was found to be 10. Conduct a hypothesis test to determine if the population mean is significantly different from 70. Use a significance level of 0.05."
   ]
  },
  {
   "cell_type": "code",
   "execution_count": 10,
   "id": "286ade21",
   "metadata": {},
   "outputs": [
    {
     "name": "stdout",
     "output_type": "stream",
     "text": [
      "t-statistic: 1.0954\n",
      "P-value: 0.2823\n",
      "Fail to reject the null hypothesis. There is no significant evidence that the population mean is different from 70.\n"
     ]
    }
   ],
   "source": [
    "from scipy.stats import t\n",
    "\n",
    "# Given data\n",
    "sample_mean = 72\n",
    "sample_std_dev = 10\n",
    "sample_size = 30\n",
    "population_mean_h0 = 70\n",
    "significance_level = 0.05\n",
    "\n",
    "# Calculate the t-statistic\n",
    "t_statistic = (sample_mean - population_mean_h0) / (sample_std_dev / (sample_size ** 0.5))\n",
    "\n",
    "# Degrees of freedom\n",
    "df = sample_size - 1\n",
    "\n",
    "# Calculate the two-tailed p-value\n",
    "p_value = 2 * (1 - t.cdf(abs(t_statistic), df))\n",
    "\n",
    "# Make a decision\n",
    "print(f\"t-statistic: {t_statistic:.4f}\")\n",
    "print(f\"P-value: {p_value:.4f}\")\n",
    "\n",
    "if p_value < significance_level:\n",
    "    print(\"Reject the null hypothesis. The population mean is significantly different from 70.\")\n",
    "else:\n",
    "    print(\"Fail to reject the null hypothesis. There is no significant evidence that the population mean is different from 70.\")"
   ]
  },
  {
   "cell_type": "markdown",
   "id": "3505612a",
   "metadata": {},
   "source": [
    "Since the p-value (0.2823) is greater than the chosen significance level (0.05), we fail to reject the null hypothesis. Therefore, there is no statistically significant evidence to conclude that the population mean is different from 70. The sample data does not provide enough support to reject the idea that the population mean is 70"
   ]
  }
 ],
 "metadata": {
  "kernelspec": {
   "display_name": "Python 3 (ipykernel)",
   "language": "python",
   "name": "python3"
  },
  "language_info": {
   "codemirror_mode": {
    "name": "ipython",
    "version": 3
   },
   "file_extension": ".py",
   "mimetype": "text/x-python",
   "name": "python",
   "nbconvert_exporter": "python",
   "pygments_lexer": "ipython3",
   "version": "3.11.5"
  }
 },
 "nbformat": 4,
 "nbformat_minor": 5
}
