{
 "cells": [
  {
   "cell_type": "code",
   "execution_count": null,
   "id": "d0a2f3ff",
   "metadata": {},
   "outputs": [],
   "source": [
    "Q1: What is the difference between a t-test and a z-test? Provide an example scenario where you would\n",
    "use each type of test.\n",
    "Q2: Differentiate between one-tailed and two-tailed tests.\n",
    "Q3: Explain the concept of Type 1 and Type 2 errors in hypothesis testing. Provide an example scenario for\n",
    "each type of error.\n",
    "Q4: Explain Bayes's theorem with an example.\n",
    "Q5: What is a confidence interval? How to calculate the confidence interval, explain with an example.\n",
    "Q6. Use Bayes' Theorem to calculate the probability of an event occurring given prior knowledge of the\n",
    "event's probability and new evidence. Provide a sample problem and solution.\n",
    "Q7. Calculate the 95% confidence interval for a sample of data with a mean of 50 and a standard deviation\n",
    "of 5. Interpret the results.\n",
    "Q8. What is the margin of error in a confidence interval? How does sample size affect the margin of error?\n",
    "Provide an example of a scenario where a larger sample size would result in a smaller margin of error.\n",
    "Q9. Calculate the z-score for a data point with a value of 75, a population mean of 70, and a population\n",
    "standard deviation of 5. Interpret the results.\n",
    "Q10. In a study of the effectiveness of a new weight loss drug, a sample of 50 participants lost an average\n",
    "of 6 pounds with a standard deviation of 2.5 pounds. Conduct a hypothesis test to determine if the drug is\n",
    "significantly effective at a 95% confidence level using a t-test.\n",
    "Q11. In a survey of 500 people, 65% reported being satisfied with their current job. Calculate the 95%\n",
    "confidence interval for the true proportion of people who are satisfied with their job.\n",
    "Q12. A researcher is testing the effectiveness of two different teaching methods on student performance.\n",
    "Sample A has a mean score of 85 with a standard deviation of 6, while sample B has a mean score of 82\n",
    "with a standard deviation of 5. Conduct a hypothesis test to determine if the two teaching methods have a\n",
    "significant difference in student performance using a t-test with a significance level of 0.01.\n",
    "Q13. A population has a mean of 60 and a standard deviation of 8. A sample of 50 observations has a mean\n",
    "of 65. Calculate the 90% confidence interval for the true population mean.\n",
    "Q14. In a study of the effects of caffeine on reaction time, a sample of 30 participants had an average\n",
    "reaction time of 0.25 seconds with a standard deviation of 0.05 seconds. Conduct a hypothesis test to\n",
    "determine if the caffeine has a significant effect on reaction time at a 90% confidence level using a t-test."
   ]
  },
  {
   "cell_type": "markdown",
   "id": "18585f2d",
   "metadata": {},
   "source": [
    "### Q1: What is the difference between a t-test and a z-test? Provide an example scenario where you would use each type of test."
   ]
  },
  {
   "cell_type": "markdown",
   "id": "8be03a89",
   "metadata": {},
   "source": [
    "Difference between a t-test and a z-test:\n",
    "\n",
    "Type of Data:\n",
    "Z-Test: Typically used when the population standard deviation is known.\n",
    "T-Test: Used when the population standard deviation is unknown, and the sample size is small.\n",
    "\n",
    "Sample Size:\n",
    "Z-Test: Suitable for larger sample sizes (usually n > 30).\n",
    "T-Test: Appropriate for smaller sample sizes.\n",
    "\n",
    "Distribution:\n",
    "Z-Test: Assumes a normal distribution of the data.\n",
    "T-Test: Works well for normal distributions, but robust for smaller sample sizes or unknown population distributions.\n",
    "Formula for the Test Statistic:\n",
    "Z-Test : Z = (bar x -μ)/(sigma/sqrt(n))\n",
    "T-Test : t = (bar x -μ)/(s/sqrt(n))\n",
    "\n",
    "Example Scenario\n",
    "Z-Test:\n",
    "Scenario: You are conducting a study on the average height of adult males in a population, and the population standard deviation (σ) is known (e.g., from historical data or a larger study).\n",
    "Use Case: Use a Z-test to determine if the average height of a sample of adult males is significantly different from the known population mean.\n",
    "\n",
    "T-Test:\n",
    "Scenario: You are conducting a study on the average response time to a new medication, and you have a small sample size (e.g., 20 participants). The population standard deviation (σ) is unknown.\n",
    "Use Case: Use a T-test to assess if the average response time of the sample is significantly different from the expected response time in the population.\n",
    "\n",
    "In summary, use a Z-test when the population standard deviation is known and sample size is relatively large, and use a T-test when the population standard deviation is unknown, or the sample size is smal"
   ]
  },
  {
   "cell_type": "markdown",
   "id": "4f611bb5",
   "metadata": {},
   "source": [
    "###  Q2: Differentiate between one-tailed and two-tailed tests."
   ]
  },
  {
   "cell_type": "markdown",
   "id": "9a5fb834",
   "metadata": {},
   "source": [
    "One-Tailed Test:\n",
    "\n",
    "Used when the hypothesis is directional and you want to test if a parameter is significantly greater than or less than a specific value.\n",
    "Has a critical region on only one side of the distribution.\n",
    "The rejection region is either in the right tail (greater than) or left tail (less than).\n",
    "Two-Tailed Test:\n",
    "\n",
    "Used when the hypothesis is non-directional, and you want to test if a parameter is significantly different from a specific value.\n",
    "Has a critical region on both sides of the distribution.\n",
    "The rejection region is split between the two tails (either less than or greater than)."
   ]
  },
  {
   "cell_type": "markdown",
   "id": "47d28c40",
   "metadata": {},
   "source": [
    "### Q3: Explain the concept of Type 1 and Type 2 errors in hypothesis testing. Provide an example scenario for each type of error."
   ]
  },
  {
   "cell_type": "markdown",
   "id": "8811ec0f",
   "metadata": {},
   "source": [
    "Type 1 Error (False Positive):\n",
    "Rejecting a true null hypothesis.\n",
    "Example: Concluding that a patient has a disease (alternative hypothesis) when they are healthy (null hypothesis).\n",
    "\n",
    "Type 2 Error (False Negative):\n",
    "Failing to reject a false null hypothesis.\n",
    "Example: Concluding that a patient is healthy (null hypothesis) when they actually have the disease (alternative hypothesis)."
   ]
  },
  {
   "cell_type": "markdown",
   "id": "99b8b65b",
   "metadata": {},
   "source": [
    "### Q4: Explain Bayes's theorem with an example."
   ]
  },
  {
   "cell_type": "markdown",
   "id": "8b2b5925",
   "metadata": {},
   "source": [
    "Bayes's Theorem relates the probability of a hypothesis given new evidence to the probability of the evidence given the hypothesis. The formula is:\n",
    "P(A|B) =(P(B|A).P(A))/P(B)\n",
    "Where:\n",
    "P(A|B) is the probability of hypothesis A given evidence B.\n",
    "P(B|A) is the probability of evidence B given hypothesis A.\n",
    "P(A) is the prior probability of hypothesis A.\n",
    "P(B) is the probability of evidence B.\n",
    "Example:\n",
    "Suppose you want to find the probability of a person having a rare disease given a positive test result.\n",
    "P(A) Prior probability of having the disease.\n",
    "P(B|A) Probability of a positive test result given the person has the disease.\n",
    "P(B) Probability of a positive test result."
   ]
  },
  {
   "cell_type": "markdown",
   "id": "bd80d607",
   "metadata": {},
   "source": [
    "### Q5: What is a confidence interval? How to calculate the confidence interval, explain with an example."
   ]
  },
  {
   "cell_type": "markdown",
   "id": "8104aab2",
   "metadata": {},
   "source": [
    "Confidence Interval (CI):\n",
    "\n",
    "A range of values used to estimate the true value of a parameter with a certain level of confidence.\n",
    "Provides a range of plausible values rather than a single point estimate.\n",
    "Calculation:\n",
    "Confidence Interval=Point Estimate ± Margin of Error\n",
    "\n",
    "Example:\n",
    "Suppose you measure the average height of a sample of 100 people and find the mean (bar X) to be 65 inches and the standard deviation (s) to be 3 inches. If you want to calculate a 95% confidence interval for the true average height (μ), you use the formula:"
   ]
  },
  {
   "cell_type": "markdown",
   "id": "d594c697",
   "metadata": {},
   "source": [
    "### Q6: Use Bayes' Theorem to calculate the probability of an event occurring given prior knowledge of the event's probability and new evidence. Provide a sample problem and solution."
   ]
  },
  {
   "cell_type": "markdown",
   "id": "16af5f3a",
   "metadata": {},
   "source": [
    "Sample Problem:\n",
    "Suppose you have a box with 3 red balls and 2 green balls. You draw one ball randomly, and it's red. What is the probability that the ball was drawn from a box labeled \"Box A,\" which contains 2 red balls and 1 green ball?\n",
    "Solution:\n",
    "Let:\n",
    "Event A: Drawing from Box A.\n",
    "Event B: Drawing a red ball.\n",
    "P(A) = 1/2(prior probability of drawing from Box A)\n",
    "P(B|A) = 2/3 (Probability of drawing a red ball given Box A)\n",
    "P(B) = 3/5(Probability of drawing a red ball overall)\n",
    "Now, use Bayes Theorem:\n",
    "P(A|B)=(P(B|A).P(A))/P(B) = (2/3*1/2)/(3/5) = 2/5\n",
    "So, the probability of drawing from Box A given that a red ball was drawn is 2/5"
   ]
  },
  {
   "cell_type": "markdown",
   "id": "dc9f4259",
   "metadata": {},
   "source": [
    "### Q7: Calculate the 95% confidence interval for a sample of data with a mean of 50 and a standard deviation of 5. Interpret the results."
   ]
  },
  {
   "cell_type": "markdown",
   "id": "33f60649",
   "metadata": {},
   "source": [
    "Confidence Interval = bar X +- (Critical Value *(s/sqrt(n))\n",
    "For a 95% confidence interval:\n",
    "Critical Value = 1.96(from a standard normal distribution)\n",
    "Confidence Interval = 50+-(1.96*(5/sqrt(n))\n",
    "If n is known, you can substitute its value.\n",
    "Interpretation : We are 95% confident that the true of the population lies within the interval (lower limit, upper limit)"
   ]
  },
  {
   "cell_type": "markdown",
   "id": "32bffd46",
   "metadata": {},
   "source": [
    "### Q8: What is the margin of error in a confidence interval? How does sample size affect the margin of error? Provide an example of a scenario where a larger sample size would result in a smaller margin of error."
   ]
  },
  {
   "cell_type": "code",
   "execution_count": null,
   "id": "d06f541b",
   "metadata": {},
   "outputs": [],
   "source": [
    "Margin of Error (MOE):\n",
    "\n",
    "The range above and below the point estimate within which the true population parameter is likely to fall.\n",
    "Calculated as the critical value times the standard error.\n",
    "Margin of Error = Critical Value ×Standard Error\n",
    "\n",
    "Effect of Sample Size:\n",
    "As the sample size increases, the standard error decreases.\n",
    "A larger sample size leads to a smaller margin of error.\n",
    "Example Scenario:\n",
    "Suppose you want to estimate the average height of students in a university. With a sample of 30 students, the margin of error might be 1 inch. If you increase the sample size to 300, the margin of error may decrease to 0.1 inches, providing a more precise estimate of the population mean."
   ]
  },
  {
   "cell_type": "markdown",
   "id": "453a1bc7",
   "metadata": {},
   "source": [
    "### Q9: Calculate the z-score for a data point with a value of 75, a population mean of 70, and a population standard deviation of 5. Interpret the results."
   ]
  },
  {
   "cell_type": "markdown",
   "id": "70e91fe2",
   "metadata": {},
   "source": [
    "Z = (X-μ)/sigma = (75-70)/5 =1\n",
    "Interpretation: The data point of 75 is 1 standard deviation above the mean in the given population."
   ]
  },
  {
   "cell_type": "markdown",
   "id": "1f0202f0",
   "metadata": {},
   "source": [
    "### Q13 A population has a mean of 60 and a standard deviation of 8. A sample of 50 observations has a mean of 65. Calculate the 90% confidence interval for the true population mean."
   ]
  },
  {
   "cell_type": "markdown",
   "id": "d8ef4d08",
   "metadata": {},
   "source": [
    "Given Data:\n",
    "\n",
    "Population Mean (μ): 60\n",
    "Population Standard Deviation (σ): 8\n",
    "Sample Mean (bar X): 65\n",
    "Sample Size (n): 50\n",
    "Confidence Level: 90%\n",
    "Formula for Confidence Interval (for Mean):\n",
    "Confidence Interval = barX =- Z*(sigma/sqrt n)\n",
    "Critical Z-Value for 90% Confidence Level (two-tailed):\n",
    "From standard normal distribution or Z-table, Z≈1.645.\n",
    "Confidence Interval:\n",
    "Confidence Interval=65±1.645×(8/sqrt 50)\n",
    "Interpretation:\n",
    "We are 90% confident that the true population mean lies within the calculated interval.\n"
   ]
  },
  {
   "cell_type": "markdown",
   "id": "57f3a754",
   "metadata": {},
   "source": [
    "### Q14: In a study of the effects of caffeine on reaction time, a sample of 30 participants had an average reaction time of 0.25 seconds with a standard deviation of 0.05 seconds. Conduct a hypothesis test to determine if the caffeine has a significant effect on reaction time at a 90% confidence level using a t-test."
   ]
  },
  {
   "cell_type": "markdown",
   "id": "c0111938",
   "metadata": {},
   "source": [
    "Given Data:\n",
    "\n",
    "Sample Mean (bar X): 0.25 seconds\n",
    "Sample Standard Deviation (s): 0.05 seconds\n",
    "Sample Size (n): 30\n",
    "Confidence Level: 90%\n",
    "Hypotheses:\n",
    "\n",
    "Null Hypothesis (H0): Caffeine has no significant effect \n",
    "μ=0).\n",
    "Alternative Hypothesis (Ha): Caffeine has a significant effect (\n",
    "μ!=0).\n",
    "Significance Level:\n",
    "α=0.10 (90% confidence level, two-tailed test)\n",
    "\n",
    "Calculate the Test Statistic:\n",
    "t= (bar x - μ0)/(s/sqrt n )\n",
    "\n",
    "Degrees of Freedom (df):\n",
    "\n",
    "df=n−1=30−1=29\n",
    "\n",
    "Critical Value(s):\n",
    "\n",
    "For a two-tailed test, find the critical t-value(s) with \n",
    "df=29.\n",
    "Decision Rule:\n",
    "If ∣t∣ > Critical Value, reject the null hypothesis.\n",
    "Conclusion:\n",
    "Compare the calculated t with the critical value(s) and make a decision."
   ]
  },
  {
   "cell_type": "code",
   "execution_count": null,
   "id": "5fb383c0",
   "metadata": {},
   "outputs": [],
   "source": []
  },
  {
   "cell_type": "code",
   "execution_count": null,
   "id": "91cfb25c",
   "metadata": {},
   "outputs": [],
   "source": []
  },
  {
   "cell_type": "code",
   "execution_count": null,
   "id": "b21d5912",
   "metadata": {},
   "outputs": [],
   "source": []
  },
  {
   "cell_type": "code",
   "execution_count": null,
   "id": "cdb95c6c",
   "metadata": {},
   "outputs": [],
   "source": []
  }
 ],
 "metadata": {
  "kernelspec": {
   "display_name": "Python 3 (ipykernel)",
   "language": "python",
   "name": "python3"
  },
  "language_info": {
   "codemirror_mode": {
    "name": "ipython",
    "version": 3
   },
   "file_extension": ".py",
   "mimetype": "text/x-python",
   "name": "python",
   "nbconvert_exporter": "python",
   "pygments_lexer": "ipython3",
   "version": "3.11.5"
  }
 },
 "nbformat": 4,
 "nbformat_minor": 5
}
