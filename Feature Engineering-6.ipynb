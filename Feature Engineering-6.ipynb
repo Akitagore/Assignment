{
 "cells": [
  {
   "cell_type": "markdown",
   "id": "3b4e315a",
   "metadata": {},
   "source": [
    "### Q1. Pearson correlation coefficient is a measure of the linear relationship between two variables. Suppose you have collected data on the amount of time students spend studying for an exam and their final exam scores. Calculate the Pearson correlation coefficient between these two variables and interpret the result."
   ]
  },
  {
   "cell_type": "markdown",
   "id": "cd242f90",
   "metadata": {},
   "source": [
    "The Pearson correlation coefficient, often denoted as r, is a measure of the linear relationship between two variables. It ranges from -1 to 1, where:\n",
    "##### r = 1 indicates a perfect positive linear relationship\n",
    "##### r = -1 indicates a perfect negative linear relationship\n",
    "##### r = 0 indicates no linear relationship\n",
    "To calculate the Pearson Correlation coefficient between the amount of time student spend (X) abd their final exam scores(Y), the formula is:\n",
    "##### r = sum((Xi-bar X)(Yi-bar Y))/(Sqrt(sum(Xi-bar X)^2 sum(Yi-bar Y)^2)\n",
    "Here, bar X and bar Y are the means of X and Y resp.\n",
    "Once you calculate r, you can interpret the result as follows:\n",
    "##### If r>0, there is a positive linear relationship. As r approaches 1, the relationship becomes stronger.\n",
    "##### If  r<0, there is a negative linear relationship. As r approaches -1, the relationship becomes stronger.\n",
    "##### If r=0, there is no linear relationship between the two variables\n",
    "For example, if r=0.75, it suggests a strong positive linear relationship between the time spent studying and the final exam scores. Conversely, if \n",
    "r=−0.60, it indicates a moderate negative linear relationship between the two variables."
   ]
  },
  {
   "cell_type": "markdown",
   "id": "d4aea9da",
   "metadata": {},
   "source": [
    "### Q2. Spearman's rank correlation is a measure of the monotonic relationship between two variables. Suppose you have collected data on the amount of sleep individuals get each night and their overall job satisfaction level on a scale of 1 to 10. Calculate the Spearman's rank correlation between these two variables and interpret the result."
   ]
  },
  {
   "cell_type": "markdown",
   "id": "edf1545b",
   "metadata": {},
   "source": [
    "Spearman's rank correlation coefficient (ρ) is a non-parametric measure of the monotonic relationship between two variables. It assesses how well the relationship between the variables can be described using a monotonic function, without assuming a specific linear relationship. The values of ρ range from -1 to 1, similar to Pearson correlation.\n",
    "To calculate Spearman's rank correlation:\n",
    "1. Rank the values for each variable separately.\n",
    "2. Calculate the differences between the ranks for each pair of observations.\n",
    "3. Square each difference.\n",
    "4. Sum the squared differences.\n",
    "ρ= 1− (6∑d^2/n(n^2-1)\n",
    "Here, \n",
    "di represents the differences in ranks, and \n",
    "n is the number of observations.\n",
    "\n",
    "##### Interpretation:\n",
    "1. ρ=1 indicates a perfect positive monotonic relationship.\n",
    "2. ρ=−1 indicates a perfect negative monotonic relationship.\n",
    "3. ρ=0 indicates no monotonic relationship."
   ]
  },
  {
   "cell_type": "markdown",
   "id": "a5bd4aa4",
   "metadata": {},
   "source": [
    "### Q3. Suppose you are conducting a study to examine the relationship between the number of hours of exercise per week and body mass index (BMI) in a sample of adults. You collected data on both variables for 50 participants. Calculate the Pearson correlation coefficient and the Spearman's rank correlation between these two variables and compare the results."
   ]
  },
  {
   "cell_type": "markdown",
   "id": "5cf90101",
   "metadata": {},
   "source": [
    "To calculate the Pearson correlation coefficient (r) and Spearman's rank correlation coefficient (ρ) between the number of hours of exercise per week and body mass index (BMI)\n",
    "##### Pearson Correlation Coefficient (r):\n",
    "1. Let X represent the number of hours of exercise per week, and Y represent the BMI.\n",
    "2. Calculate the means (bar X and  bar Y)) and standard deviations (σX and σY) for both variables\n",
    "3. Use the formula :\n",
    "r = (sum(Xi-bar X)*(Yi-bar Y))/sqrt(sum(Xi-barX)^2 * Sum(Yi-bar Y)^2\n",
    "#####  Spearman's Rank Correlation Coefficient (ρ):\n",
    "1. Rank the values of X and Y seperately.\n",
    "2. Calculate the differences in ranks(di) for each pair of observations.\n",
    "3. Use the formula:\n",
    "ρ = 1- 6 sum d_i^2/n(n^2-1)\n",
    "Here, \n",
    "n is the number of observations.\n",
    "Once you calculate both coefficients, you can nterpret the results:\n",
    "1. If both coefficients are close to 1, there is a strong positive linear (Pearson) or monotonic (Spearman) relationship.\n",
    "2. If both coefficients are close to -1, there is a strong negative linear or monotonic relationship.\n",
    "3. If both coefficients are close to 0, there is a weak or no linear/monotonic relationship."
   ]
  }
 ],
 "metadata": {
  "kernelspec": {
   "display_name": "Python 3 (ipykernel)",
   "language": "python",
   "name": "python3"
  },
  "language_info": {
   "codemirror_mode": {
    "name": "ipython",
    "version": 3
   },
   "file_extension": ".py",
   "mimetype": "text/x-python",
   "name": "python",
   "nbconvert_exporter": "python",
   "pygments_lexer": "ipython3",
   "version": "3.11.5"
  }
 },
 "nbformat": 4,
 "nbformat_minor": 5
}
