{
 "cells": [
  {
   "cell_type": "markdown",
   "id": "3c17fa3b",
   "metadata": {},
   "source": [
    "### Q1. What is the difference between Ordinal Encoding and Label Encoding? Provide an example of when you might choose one over the other."
   ]
  },
  {
   "cell_type": "markdown",
   "id": "139c5950",
   "metadata": {},
   "source": [
    "Ordinal Encoding: Assigns integers to categories based on their ordinal relationship, where the order matters. For example, 'low,' 'medium,' 'high' could be encoded as 1, 2, 3.\n",
    "Label Encoding: Assigns unique integers to categories without considering any ordinal relationship. It's suitable for nominal data where the order doesn't matter.\n",
    "Example:\n",
    "Suppose you have a dataset with a 'Size' feature containing categories: 'Small,' 'Medium,' 'Large.'\n",
    "\n",
    "Ordinal Encoding: If 'Size' has a clear ordinal relationship, like 'Small' < 'Medium' < 'Large,' you might choose ordinal encoding.\n",
    "Label Encoding: If 'Size' has no inherent order, label encoding could be used."
   ]
  },
  {
   "cell_type": "markdown",
   "id": "3a14afad",
   "metadata": {},
   "source": [
    "### Q2. Explain how Target Guided Ordinal Encoding works and provide an example of when you might use it in a machine learning project."
   ]
  },
  {
   "cell_type": "markdown",
   "id": "b32669f2",
   "metadata": {},
   "source": [
    "Target Guided Ordinal Encoding involves encoding categorical variables based on their relationship with the target variable. It assigns ranks to categories, where the rank is determined by the mean of the target variable for each category.\n",
    "\n",
    "Example:\n",
    "Consider a 'City' feature with categories, and the task is predicting 'House Price' based on the city. Target Guided Ordinal Encoding would assign ranks to cities based on the mean house price for each city."
   ]
  },
  {
   "cell_type": "code",
   "execution_count": null,
   "id": "23f77b2c",
   "metadata": {},
   "outputs": [],
   "source": [
    "import pandas as pd\n",
    "import numpy as np\n",
    "from sklearn.model_selection import train_test_split\n",
    "\n",
    "# Example DataFrame\n",
    "data = {'City': ['A', 'B', 'A', 'C', 'B', 'C'],\n",
    "        'House_Price': [300000, 250000, 320000, 280000, 270000, 310000]}\n",
    "df = pd.DataFrame(data)\n",
    "\n",
    "# Calculate mean house price for each city\n",
    "city_means = df.groupby('City')['House_Price'].mean().sort_values()\n",
    "\n",
    "# Create a mapping of city ranks\n",
    "city_ranks = {city: rank for rank, city in enumerate(city_means.index, 1)}\n",
    "\n",
    "# Apply Target Guided Ordinal Encoding\n",
    "df['City_encoded'] = df['City'].map(city_ranks)\n",
    "\n",
    "print(df)"
   ]
  },
  {
   "cell_type": "markdown",
   "id": "510e07b5",
   "metadata": {},
   "source": [
    "### Q3. Define covariance and explain why it is important in statistical analysis. How is covariance calculated?"
   ]
  },
  {
   "cell_type": "markdown",
   "id": "fdf197d1",
   "metadata": {},
   "source": [
    "Covariance measures the degree to which two variables change together. A positive covariance indicates a direct relationship (both increase or decrease together), while a negative covariance suggests an inverse relationship (one increases while the other decreases).\n",
    "\n",
    "Importance:\n",
    "Covariance is crucial in statistical analysis as it helps understand the relationship between two variables.\n",
    "It is a foundation for calculating correlation, which standardizes the relationship strength, making it easier to interpret.\n",
    "Calculation:\n",
    "Cov(X,Y) = (sum_(i=1)^n(Xi-hat X)(Yi-hat Y))/n-1\n",
    "where:\n",
    "Xi and Yi are individual data points.\n",
    "bar X and bar Y are the means of X and Y ,respectively.\n",
    "n is the number ofdata points"
   ]
  },
  {
   "cell_type": "markdown",
   "id": "427e166e",
   "metadata": {},
   "source": [
    "### Q4. For a dataset with the following categorical variables: Color (red, green, blue), Size (small, medium, large), and Material (wood, metal, plastic), perform label encoding using Python's scikit-learn library. Show your code and explain the output."
   ]
  },
  {
   "cell_type": "code",
   "execution_count": 1,
   "id": "c575c00b",
   "metadata": {},
   "outputs": [
    {
     "name": "stdout",
     "output_type": "stream",
     "text": [
      "   Color    Size Material  Color_encoded  Size_encoded  Material_encoded\n",
      "0    red   small     wood              2             2                 2\n",
      "1  green  medium    metal              1             1                 0\n",
      "2   blue   large  plastic              0             0                 1\n",
      "3  green  medium     wood              1             1                 2\n",
      "4    red   small    metal              2             2                 0\n"
     ]
    }
   ],
   "source": [
    "from sklearn.preprocessing import LabelEncoder\n",
    "import pandas as pd\n",
    "\n",
    "# Example DataFrame\n",
    "data = {'Color': ['red', 'green', 'blue', 'green', 'red'],\n",
    "        'Size': ['small', 'medium', 'large', 'medium', 'small'],\n",
    "        'Material': ['wood', 'metal', 'plastic', 'wood', 'metal']}\n",
    "\n",
    "df = pd.DataFrame(data)\n",
    "\n",
    "# Apply Label Encoding\n",
    "label_encoder = LabelEncoder()\n",
    "\n",
    "for col in df.columns:\n",
    "    df[col + '_encoded'] = label_encoder.fit_transform(df[col])\n",
    "\n",
    "print(df)"
   ]
  },
  {
   "cell_type": "markdown",
   "id": "65924a85",
   "metadata": {},
   "source": [
    "Explanation:\n",
    "\n",
    "Each categorical variable is encoded using Label Encoding.\n",
    "For each original categorical column, a new column is added with the '_encoded' suffix, containing the encoded numerical values."
   ]
  },
  {
   "cell_type": "markdown",
   "id": "012fcba8",
   "metadata": {},
   "source": [
    "### Q5. Calculate the covariance matrix for the following variables in a dataset: Age, Income, and Education level. Interpret the results."
   ]
  },
  {
   "cell_type": "markdown",
   "id": "1fb9a7d1",
   "metadata": {},
   "source": [
    "To calculate the covariance matrix for the variables Age, Income, and Education Level in a dataset, you would typically use a statistical software or programming language. The covariance matrix provides insights into how the variables co-vary with each other.\n",
    "The covariance matrix is given by:\n",
    "[Cov(Age,Age)                   Cov(Age,Income)                 Cov(Age, Education Level)\n",
    "Cov(Income,Age)                Cov(Income,Income)               Cov(Income,Education Level)\n",
    "Cov(Education Level, Age)    Cov(Education Level, Income)      Cov(Education Level,Education level)]\n",
    "\n",
    "1. Interpretation:\n",
    "Diagonal Elements:\n",
    "Cov(Age,Age): This is the covariance of Age with itself. It represents the variance of the Age variable.\n",
    "\n",
    "Cov(Income,Income): Similarly, this is the variance of the Income variable.\n",
    "\n",
    "Cov(Education Level,Education Level): The variance of the Education Level variable.\n",
    "\n",
    "2. Off-Diagonal Elements:\n",
    "Cov(Age,Income): Indicates how Age and Income vary together. A positive value suggests a positive relationship, while a negative value suggests a negative relationship.\n",
    "Cov(Age,Education Level): Represents the covariance between Age and Education Level.\n",
    "Cov(Income,Education Level): Represents the covariance between Income and Education Level.\n",
    "3. Symmetry:\n",
    "The covariance matrix is symmetric. \n",
    "Cov(X,Y)=Cov(Y,X).\n",
    "4. Magnitude:\n",
    "The magnitude of the covariance values indicates the strength of the linear relationship between the variables."
   ]
  },
  {
   "cell_type": "markdown",
   "id": "b9bcff71",
   "metadata": {},
   "source": [
    "### Q6. You are working on a machine learning project with a dataset containing several categorical variables, including \"Gender\" (Male/Female), \"Education Level\" (High School/Bachelor's/Master's/PhD), and \"Employment Status\" (Unemployed/Part-Time/Full-Time). Which encoding method would you use for each variable, and why?"
   ]
  },
  {
   "cell_type": "markdown",
   "id": "bd0cd2f7",
   "metadata": {},
   "source": [
    "Gender: Since gender has only two categories (Male/Female), you can use Label Encoding. Assigning 0 or 1 to Male/Female is sufficient, and there is no ordinal relationship between them."
   ]
  },
  {
   "cell_type": "code",
   "execution_count": null,
   "id": "cf0bbcbf",
   "metadata": {},
   "outputs": [],
   "source": [
    "from sklearn.preprocessing import LabelEncoder\n",
    "label_encoder = LabelEncoder()\n",
    "df['Gender_encoded'] = label_encoder.fit_transform(df['Gender'])"
   ]
  },
  {
   "cell_type": "markdown",
   "id": "3a1f7f53",
   "metadata": {},
   "source": [
    "Education Level: This variable has multiple categories without a clear ordinal relationship. Therefore, One-Hot Encoding is a suitable choice. It creates binary columns for each category, ensuring no artificial ordinal relationship is introduced."
   ]
  },
  {
   "cell_type": "code",
   "execution_count": null,
   "id": "86e7ea14",
   "metadata": {},
   "outputs": [],
   "source": [
    "df_encoded = pd.get_dummies(df['Education Level'], prefix='Education', drop_first=True)"
   ]
  },
  {
   "cell_type": "markdown",
   "id": "72507bb4",
   "metadata": {},
   "source": [
    "Employment Status: Similar to Education Level, Employment Status doesn't have a clear order, and there are multiple categories. One-Hot Encoding is appropriate for creating binary columns."
   ]
  },
  {
   "cell_type": "code",
   "execution_count": null,
   "id": "72c55d7c",
   "metadata": {},
   "outputs": [],
   "source": [
    "df_encoded = pd.get_dummies(df['Employment Status'], prefix='Employment', drop_first=True)"
   ]
  },
  {
   "cell_type": "markdown",
   "id": "9a5205bc",
   "metadata": {},
   "source": [
    "### Q7. You are analyzing a dataset with two continuous variables, \"Temperature\" and \"Humidity\", and two categorical variables, \"Weather Condition\" (Sunny/Cloudy/Rainy) and \"Wind Direction\" (North/South/East/West). Calculate the covariance between each pair of variables and interpret the results."
   ]
  },
  {
   "cell_type": "markdown",
   "id": "02c772a9",
   "metadata": {},
   "source": [
    "To calculate the covariance matrix between Temperature, Humidity, Weather Condition, and Wind Direction, you need to use a method that can handle both continuous and categorical variables. However, traditional covariance measures are typically designed for continuous variables.\n",
    "\n",
    "For continuous variables (Temperature and Humidity), you can calculate the covariance directly using the covariance formula.\n",
    "\n",
    "For categorical variables (Weather Condition and Wind Direction), you may consider using techniques like Cramér's V or Theil's U, which are measures of association for categorical variables."
   ]
  },
  {
   "cell_type": "code",
   "execution_count": null,
   "id": "57208153",
   "metadata": {},
   "outputs": [],
   "source": [
    "# Assuming df is your DataFrame\n",
    "cov_matrix = df[['Temperature', 'Humidity']].cov()\n",
    "print(cov_matrix)"
   ]
  },
  {
   "cell_type": "markdown",
   "id": "dbeb0f6a",
   "metadata": {},
   "source": [
    "Cov(Temperature,Temperature) and \n",
    "Cov(Humidity,Humidity): Represent the variance of Temperature and Humidity, respectively.\n",
    "Cov(Temperature,Humidity): Indicates the covariance between Temperature and Humidity. A positive value suggests that they tend to increase or decrease together, while a negative value suggests an inverse relationship."
   ]
  }
 ],
 "metadata": {
  "kernelspec": {
   "display_name": "Python 3 (ipykernel)",
   "language": "python",
   "name": "python3"
  },
  "language_info": {
   "codemirror_mode": {
    "name": "ipython",
    "version": 3
   },
   "file_extension": ".py",
   "mimetype": "text/x-python",
   "name": "python",
   "nbconvert_exporter": "python",
   "pygments_lexer": "ipython3",
   "version": "3.11.5"
  }
 },
 "nbformat": 4,
 "nbformat_minor": 5
}
