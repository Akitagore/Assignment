{
 "cells": [
  {
   "cell_type": "markdown",
   "id": "1e3903b7",
   "metadata": {},
   "source": [
    "### Q1. Write a Python function that takes in two arrays of data and calculates the F-value for a variance ratio test. The function should return the F-value and the corresponding p-value for the test."
   ]
  },
  {
   "cell_type": "code",
   "execution_count": 1,
   "id": "00578704",
   "metadata": {},
   "outputs": [
    {
     "name": "stdout",
     "output_type": "stream",
     "text": [
      "F-value: 0.2857\n",
      "P-value: 0.6075\n"
     ]
    }
   ],
   "source": [
    "import scipy.stats as stats\n",
    "\n",
    "def calculate_f_value(data1, data2):\n",
    "    \"\"\"\n",
    "    Calculate the F-value and p-value for a variance ratio test (ANOVA).\n",
    "\n",
    "    Parameters:\n",
    "    - data1: array-like, the first set of data\n",
    "    - data2: array-like, the second set of data\n",
    "\n",
    "    Returns:\n",
    "    - f_value: float, the calculated F-value\n",
    "    - p_value: float, the corresponding p-value\n",
    "    \"\"\"\n",
    "    # Perform variance ratio test (F-test)\n",
    "    f_value, p_value = stats.f_oneway(data1, data2)\n",
    "\n",
    "    return f_value, p_value\n",
    "\n",
    "# Example usage:\n",
    "data1 = [12, 15, 18, 20, 22]\n",
    "data2 = [10, 14, 16, 19, 21]\n",
    "\n",
    "f_value, p_value = calculate_f_value(data1, data2)\n",
    "print(f\"F-value: {f_value:.4f}\")\n",
    "print(f\"P-value: {p_value:.4f}\")"
   ]
  },
  {
   "cell_type": "markdown",
   "id": "da7935e5",
   "metadata": {},
   "source": [
    "### Q2. Given a significance level of 0.05 and the degrees of freedom for the numerator and denominator of an F-distribution, write a Python function that returns the critical F-value for a two-tailed test."
   ]
  },
  {
   "cell_type": "code",
   "execution_count": 2,
   "id": "01b62835",
   "metadata": {},
   "outputs": [
    {
     "name": "stdout",
     "output_type": "stream",
     "text": [
      "Critical F-value: 3.8587\n"
     ]
    }
   ],
   "source": [
    "import scipy.stats as stats\n",
    "\n",
    "def critical_f_value(significance_level, df_num, df_denom):\n",
    "    \"\"\"\n",
    "    Calculate the critical F-value for a two-tailed test.\n",
    "\n",
    "    Parameters:\n",
    "    - significance_level: float, the desired significance level (e.g., 0.05)\n",
    "    - df_num: int, degrees of freedom for the numerator\n",
    "    - df_denom: int, degrees of freedom for the denominator\n",
    "\n",
    "    Returns:\n",
    "    - critical_f: float, the critical F-value\n",
    "    \"\"\"\n",
    "    alpha = significance_level / 2  # Two-tailed test, so split alpha\n",
    "    critical_f = stats.f.ppf(1 - alpha, df_num, df_denom)\n",
    "\n",
    "    return critical_f\n",
    "\n",
    "# Example usage:\n",
    "significance_level = 0.05\n",
    "df_num = 3\n",
    "df_denom = 20\n",
    "\n",
    "critical_f = critical_f_value(significance_level, df_num, df_denom)\n",
    "print(f\"Critical F-value: {critical_f:.4f}\")"
   ]
  },
  {
   "cell_type": "markdown",
   "id": "8e09ed12",
   "metadata": {},
   "source": [
    "### Q3. Write a Python program that generates random samples from two normal distributions with known variances and uses an F-test to determine if the variances are equal. The program should output the F-value, degrees of freedom, and p-value for the test."
   ]
  },
  {
   "cell_type": "code",
   "execution_count": 3,
   "id": "034e1633",
   "metadata": {},
   "outputs": [
    {
     "name": "stdout",
     "output_type": "stream",
     "text": [
      "F-value: 1.9731\n",
      "Degrees of Freedom (numerator): 49\n",
      "Degrees of Freedom (denominator): 49\n",
      "P-value: 0.0191\n"
     ]
    }
   ],
   "source": [
    "import numpy as np\n",
    "import scipy.stats as stats\n",
    "\n",
    "def f_test_for_equal_variances(data1, data2):\n",
    "    \"\"\"\n",
    "    Perform an F-test to check if the variances of two datasets are equal.\n",
    "\n",
    "    Parameters:\n",
    "    - data1: array-like, random samples from the first normal distribution\n",
    "    - data2: array-like, random samples from the second normal distribution\n",
    "\n",
    "    Returns:\n",
    "    - f_value: float, the calculated F-value\n",
    "    - df_num: int, degrees of freedom for the numerator\n",
    "    - df_denom: int, degrees of freedom for the denominator\n",
    "    - p_value: float, the corresponding p-value\n",
    "    \"\"\"\n",
    "    var1 = np.var(data1, ddof=1)  # unbiased estimate of variance for data1\n",
    "    var2 = np.var(data2, ddof=1)  # unbiased estimate of variance for data2\n",
    "\n",
    "    df_num = len(data1) - 1  # degrees of freedom for the numerator\n",
    "    df_denom = len(data2) - 1  # degrees of freedom for the denominator\n",
    "\n",
    "    f_value = var1 / var2 if var1 >= var2 else var2 / var1  # F-ratio\n",
    "    p_value = 2 * min(stats.f.cdf(f_value, df_num, df_denom), 1 - stats.f.cdf(f_value, df_num, df_denom))\n",
    "\n",
    "    return f_value, df_num, df_denom, p_value\n",
    "\n",
    "# Example usage:\n",
    "np.random.seed(42)  # Set seed for reproducibility\n",
    "data1 = np.random.normal(loc=0, scale=1, size=50)  # Example data from a normal distribution with variance 1\n",
    "data2 = np.random.normal(loc=0, scale=1.5, size=50)  # Example data from a normal distribution with variance 2\n",
    "\n",
    "f_value, df_num, df_denom, p_value = f_test_for_equal_variances(data1, data2)\n",
    "print(f\"F-value: {f_value:.4f}\")\n",
    "print(f\"Degrees of Freedom (numerator): {df_num}\")\n",
    "print(f\"Degrees of Freedom (denominator): {df_denom}\")\n",
    "print(f\"P-value: {p_value:.4f}\")"
   ]
  },
  {
   "cell_type": "markdown",
   "id": "126b86f9",
   "metadata": {},
   "source": [
    "### Q4.The variances of two populations are known to be 10 and 15. A sample of 12 observations is taken from each population. Conduct an F-test at the 5% significance level to determine if the variances are significantly different."
   ]
  },
  {
   "cell_type": "code",
   "execution_count": 4,
   "id": "a1bd56a5",
   "metadata": {},
   "outputs": [
    {
     "name": "stdout",
     "output_type": "stream",
     "text": [
      "F-value: 0.6667\n",
      "P-value: 0.5124\n",
      "Fail to reject the null hypothesis. Variances are not significantly different.\n"
     ]
    }
   ],
   "source": [
    "import scipy.stats as stats\n",
    "\n",
    "variance1 = 10\n",
    "variance2 = 15\n",
    "sample_size = 12\n",
    "\n",
    "# Perform F-test\n",
    "f_value = variance1 / variance2\n",
    "p_value = 2 * min(stats.f.cdf(f_value, sample_size - 1, sample_size - 1), 1 - stats.f.cdf(f_value, sample_size - 1, sample_size - 1))\n",
    "\n",
    "print(f\"F-value: {f_value:.4f}\")\n",
    "print(f\"P-value: {p_value:.4f}\")\n",
    "\n",
    "# Check significance level\n",
    "if p_value < 0.05:\n",
    "    print(\"Reject the null hypothesis. Variances are significantly different.\")\n",
    "else:\n",
    "    print(\"Fail to reject the null hypothesis. Variances are not significantly different.\")"
   ]
  },
  {
   "cell_type": "markdown",
   "id": "23258d7b",
   "metadata": {},
   "source": [
    "### Q5. A manufacturer claims that the variance of the diameter of a certain product is 0.005. A sample of 25 products is taken, and the sample variance is found to be 0.006. Conduct an F-test at the 1% significance level to determine if the claim is justified."
   ]
  },
  {
   "cell_type": "code",
   "execution_count": 6,
   "id": "f7352b95",
   "metadata": {},
   "outputs": [
    {
     "name": "stdout",
     "output_type": "stream",
     "text": [
      "F-value: 1.2000\n",
      "P-value: 0.7408\n",
      "Fail to reject the null hypothesis. The claim is justified.\n"
     ]
    }
   ],
   "source": [
    "claim_variance = 0.005\n",
    "sample_variance = 0.006\n",
    "sample_size = 25\n",
    "\n",
    "# Perform F-test\n",
    "f_value = sample_variance / claim_variance\n",
    "p_value = 2 * min(stats.f.cdf(f_value, sample_size - 1, 1), 1 - stats.f.cdf(f_value, sample_size - 1, 1))\n",
    "\n",
    "print(f\"F-value: {f_value:.4f}\")\n",
    "print(f\"P-value: {p_value:.4f}\")\n",
    "\n",
    "# Check significance level\n",
    "if p_value < 0.01:\n",
    "    print(\"Reject the null hypothesis. The claim is not justified.\")\n",
    "else:\n",
    "    print(\"Fail to reject the null hypothesis. The claim is justified.\")"
   ]
  },
  {
   "cell_type": "markdown",
   "id": "c99e9ade",
   "metadata": {},
   "source": [
    "### Q6. Write a Python function that takes in the degrees of freedom for the numerator and denominator of an F-distribution and calculates the mean and variance of the distribution. The function should return the mean and variance as a tuple."
   ]
  },
  {
   "cell_type": "code",
   "execution_count": 7,
   "id": "3f0b03b9",
   "metadata": {},
   "outputs": [
    {
     "name": "stdout",
     "output_type": "stream",
     "text": [
      "Mean: 1.2500, Variance: 1.3542\n"
     ]
    }
   ],
   "source": [
    "import numpy as np\n",
    "\n",
    "def calculate_f_distribution_params(df_num, df_denom):\n",
    "    \"\"\"\n",
    "    Calculate the mean and variance of the F-distribution.\n",
    "\n",
    "    Parameters:\n",
    "    - df_num: int, degrees of freedom for the numerator\n",
    "    - df_denom: int, degrees of freedom for the denominator\n",
    "\n",
    "    Returns:\n",
    "    - mean: float, mean of the F-distribution\n",
    "    - variance: float, variance of the F-distribution\n",
    "    \"\"\"\n",
    "    if df_num <= 0 or df_denom <= 0:\n",
    "        raise ValueError(\"Degrees of freedom must be greater than zero.\")\n",
    "\n",
    "    mean = df_denom / (df_denom - 2)\n",
    "    variance = (2 * (df_denom**2) * (df_num + df_denom - 2)) / (df_num * (df_denom - 4) * (df_denom - 2)**2)\n",
    "\n",
    "    return mean, variance\n",
    "\n",
    "# Example usage:\n",
    "df_num_example = 5\n",
    "df_denom_example = 10\n",
    "mean_example, variance_example = calculate_f_distribution_params(df_num_example, df_denom_example)\n",
    "print(f\"Mean: {mean_example:.4f}, Variance: {variance_example:.4f}\")"
   ]
  },
  {
   "cell_type": "markdown",
   "id": "8e28363a",
   "metadata": {},
   "source": [
    "### Q7. A random sample of 10 measurements is taken from a normal population with unknown variance. The sample variance is found to be 25. Another random sample of 15 measurements is taken from another normal population with unknown variance, and the sample variance is found to be 20. Conduct an F-test at the 10% significance level to determine if the variances are significantly different."
   ]
  },
  {
   "cell_type": "code",
   "execution_count": 8,
   "id": "ef555acf",
   "metadata": {},
   "outputs": [
    {
     "name": "stdout",
     "output_type": "stream",
     "text": [
      "F-value: 1.2500\n",
      "P-value: 0.6832\n",
      "Fail to reject the null hypothesis. Variances are not significantly different.\n"
     ]
    }
   ],
   "source": [
    "import scipy.stats as stats\n",
    "\n",
    "def perform_f_test(sample1_var, sample1_size, sample2_var, sample2_size, significance_level):\n",
    "    \"\"\"\n",
    "    Perform an F-test to check if the variances of two samples are equal.\n",
    "\n",
    "    Parameters:\n",
    "    - sample1_var: float, sample variance for the first sample\n",
    "    - sample1_size: int, sample size for the first sample\n",
    "    - sample2_var: float, sample variance for the second sample\n",
    "    - sample2_size: int, sample size for the second sample\n",
    "    - significance_level: float, desired significance level\n",
    "\n",
    "    Returns:\n",
    "    - f_value: float, the calculated F-value\n",
    "    - p_value: float, the corresponding p-value\n",
    "    \"\"\"\n",
    "    df_num = sample1_size - 1\n",
    "    df_denom = sample2_size - 1\n",
    "\n",
    "    f_value = sample1_var / sample2_var if sample1_var >= sample2_var else sample2_var / sample1_var\n",
    "    p_value = 2 * min(stats.f.cdf(f_value, df_num, df_denom), 1 - stats.f.cdf(f_value, df_num, df_denom))\n",
    "\n",
    "    return f_value, p_value\n",
    "\n",
    "# Given data\n",
    "sample1_var = 25\n",
    "sample1_size = 10\n",
    "sample2_var = 20\n",
    "sample2_size = 15\n",
    "significance_level = 0.1\n",
    "\n",
    "# Perform F-test\n",
    "f_value, p_value = perform_f_test(sample1_var, sample1_size, sample2_var, sample2_size, significance_level)\n",
    "print(f\"F-value: {f_value:.4f}\")\n",
    "print(f\"P-value: {p_value:.4f}\")\n",
    "\n",
    "# Check significance level\n",
    "if p_value < significance_level:\n",
    "    print(\"Reject the null hypothesis. Variances are significantly different.\")\n",
    "else:\n",
    "    print(\"Fail to reject the null hypothesis. Variances are not significantly different.\")"
   ]
  },
  {
   "cell_type": "markdown",
   "id": "786d3f21",
   "metadata": {},
   "source": [
    "### Q8. The following data represent the waiting times in minutes at two different restaurants on a Saturday night: Restaurant A: 24, 25, 28, 23, 22, 20, 27; Restaurant B: 31, 33, 35, 30, 32, 36. Conduct an F-test at the 5% significance level to determine if the variances are significantly different."
   ]
  },
  {
   "cell_type": "code",
   "execution_count": 9,
   "id": "87b28c72",
   "metadata": {},
   "outputs": [
    {
     "name": "stdout",
     "output_type": "stream",
     "text": [
      "F-value: 1.4552\n",
      "P-value: 0.6975\n",
      "Fail to reject the null hypothesis. Variances are not significantly different.\n"
     ]
    }
   ],
   "source": [
    "import scipy.stats as stats\n",
    "\n",
    "def perform_f_test(sample1, sample2, significance_level):\n",
    "    \"\"\"\n",
    "    Perform an F-test to check if the variances of two samples are equal.\n",
    "\n",
    "    Parameters:\n",
    "    - sample1: array-like, waiting times for Restaurant A\n",
    "    - sample2: array-like, waiting times for Restaurant B\n",
    "    - significance_level: float, desired significance level\n",
    "\n",
    "    Returns:\n",
    "    - f_value: float, the calculated F-value\n",
    "    - p_value: float, the corresponding p-value\n",
    "    \"\"\"\n",
    "    sample1_var = np.var(sample1, ddof=1)\n",
    "    sample2_var = np.var(sample2, ddof=1)\n",
    "\n",
    "    df_num = len(sample1) - 1\n",
    "    df_denom = len(sample2) - 1\n",
    "\n",
    "    f_value = sample1_var / sample2_var if sample1_var >= sample2_var else sample2_var / sample1_var\n",
    "    p_value = 2 * min(stats.f.cdf(f_value, df_num, df_denom), 1 - stats.f.cdf(f_value, df_num, df_denom))\n",
    "\n",
    "    return f_value, p_value\n",
    "\n",
    "# Given data\n",
    "sample_a = [24, 25, 28, 23, 22, 20, 27]\n",
    "sample_b = [31, 33, 35, 30, 32, 36]\n",
    "significance_level = 0.05\n",
    "\n",
    "# Perform F-test\n",
    "f_value, p_value = perform_f_test(sample_a, sample_b, significance_level)\n",
    "print(f\"F-value: {f_value:.4f}\")\n",
    "print(f\"P-value: {p_value:.4f}\")\n",
    "\n",
    "# Check significance level\n",
    "if p_value < significance_level:\n",
    "    print(\"Reject the null hypothesis. Variances are significantly different.\")\n",
    "else:\n",
    "    print(\"Fail to reject the null hypothesis. Variances are not significantly different.\")\n"
   ]
  },
  {
   "cell_type": "markdown",
   "id": "617df867",
   "metadata": {},
   "source": [
    "### Q9. The following data represent the test scores of two groups of students: Group A: 80, 85, 90, 92, 87, 83; Group B: 75, 78, 82, 79, 81, 84. Conduct an F-test at the 1% significance level to determine if the variances are significantly different."
   ]
  },
  {
   "cell_type": "code",
   "execution_count": 10,
   "id": "13f44379",
   "metadata": {},
   "outputs": [
    {
     "name": "stdout",
     "output_type": "stream",
     "text": [
      "F-value: 1.9443\n",
      "P-value: 0.4831\n",
      "Fail to reject the null hypothesis. Variances are not significantly different.\n"
     ]
    }
   ],
   "source": [
    "import scipy.stats as stats\n",
    "\n",
    "def perform_f_test(sample1, sample2, significance_level):\n",
    "    \"\"\"\n",
    "    Perform an F-test to check if the variances of two samples are equal.\n",
    "\n",
    "    Parameters:\n",
    "    - sample1: array-like, test scores for Group A\n",
    "    - sample2: array-like, test scores for Group B\n",
    "    - significance_level: float, desired significance level\n",
    "\n",
    "    Returns:\n",
    "    - f_value: float, the calculated F-value\n",
    "    - p_value: float, the corresponding p-value\n",
    "    \"\"\"\n",
    "    sample1_var = np.var(sample1, ddof=1)\n",
    "    sample2_var = np.var(sample2, ddof=1)\n",
    "\n",
    "    df_num = len(sample1) - 1\n",
    "    df_denom = len(sample2) - 1\n",
    "\n",
    "    f_value = sample1_var / sample2_var if sample1_var >= sample2_var else sample2_var / sample1_var\n",
    "    p_value = 2 * min(stats.f.cdf(f_value, df_num, df_denom), 1 - stats.f.cdf(f_value, df_num, df_denom))\n",
    "\n",
    "    return f_value, p_value\n",
    "\n",
    "# Given data\n",
    "group_a_scores = [80, 85, 90, 92, 87, 83]\n",
    "group_b_scores = [75, 78, 82, 79, 81, 84]\n",
    "significance_level = 0.01\n",
    "\n",
    "# Perform F-test\n",
    "f_value, p_value = perform_f_test(group_a_scores, group_b_scores, significance_level)\n",
    "print(f\"F-value: {f_value:.4f}\")\n",
    "print(f\"P-value: {p_value:.4f}\")\n",
    "\n",
    "# Check significance level\n",
    "if p_value < significance_level:\n",
    "    print(\"Reject the null hypothesis. Variances are significantly different.\")\n",
    "else:\n",
    "    print(\"Fail to reject the null hypothesis. Variances are not significantly different.\")"
   ]
  }
 ],
 "metadata": {
  "kernelspec": {
   "display_name": "Python 3 (ipykernel)",
   "language": "python",
   "name": "python3"
  },
  "language_info": {
   "codemirror_mode": {
    "name": "ipython",
    "version": 3
   },
   "file_extension": ".py",
   "mimetype": "text/x-python",
   "name": "python",
   "nbconvert_exporter": "python",
   "pygments_lexer": "ipython3",
   "version": "3.11.5"
  }
 },
 "nbformat": 4,
 "nbformat_minor": 5
}
