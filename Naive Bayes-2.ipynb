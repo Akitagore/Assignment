{
 "cells": [
  {
   "cell_type": "markdown",
   "id": "92944e4a",
   "metadata": {},
   "source": [
    "### Q1. A company conducted a survey of its employees and found that 70% of the employees use the company's health insurance plan, while 40% of the employees who use the plan are smokers. What is theprobability that an employee is a smoker given that he/she uses the health insurance plan?"
   ]
  },
  {
   "cell_type": "markdown",
   "id": "a3880f09",
   "metadata": {},
   "source": [
    "Let's use Bayes' theorem to calculate the probability that an employee is a smoker given that he/she uses the health insurance plan.\n",
    "P(Smoker| Health Plan) = P(Health Plan|smoker).P(Smoker)/P(Health Plan)\n",
    "\n",
    "Given:\n",
    "\n",
    "P(Health Plan)=0.70 (probability of using the health insurance plan)\n",
    "\n",
    "P(Smoker ∣ Health Plan)=0.40 (probability of being a smoker given using the health insurance plan)\n",
    "We can use the formula to find P(Smoker):\n",
    "P(Smoker)=P(Health Plan∣Smoker)⋅P(Smoker)/P(Health Plan)\n",
    "P(Smoker)=(0.40⋅0.70)/0.70=0.40\n",
    "So, the probability that an employee is a smoker given that he/she uses the health insurance plan is 40%"
   ]
  },
  {
   "cell_type": "markdown",
   "id": "e2cc9b8c",
   "metadata": {},
   "source": [
    "### Q2. What is the difference between Bernoulli Naive Bayes and Multinomial Naive Bayes?"
   ]
  },
  {
   "cell_type": "markdown",
   "id": "282275a8",
   "metadata": {},
   "source": [
    "#### Bernoulli Naive Bayes:\n",
    "\n",
    "1. Use Case: Typically used for binary classification tasks.\n",
    "2. Features: Assumes that features are binary (presence or absence).\n",
    "3. Example: Commonly used in spam detection, where features represent the presence or absence of specific words.\n",
    "\n",
    "#### Multinomial Naive Bayes:\n",
    "\n",
    "1. Use Case: Suitable for classification tasks with discrete features (e.g., word counts or term frequencies).\n",
    "2. Features: Assumes that features follow a multinomial distribution.\n",
    "3. Example: Often used in text classification problems, where features represent word counts or frequencies."
   ]
  },
  {
   "cell_type": "markdown",
   "id": "8089075a",
   "metadata": {},
   "source": [
    "### Q3. How does Bernoulli Naive Bayes handle missing values?"
   ]
  },
  {
   "cell_type": "markdown",
   "id": "8d16fca5",
   "metadata": {},
   "source": [
    "##### Handling Missing Values:\n",
    "1. Bernoulli Naive Bayes can handle missing values by treating them as a third category (neither presence nor absence).\n",
    "2. During training, the model estimates probabilities for the presence and absence of features, and during prediction, it considers the missing values as a separate category."
   ]
  },
  {
   "cell_type": "markdown",
   "id": "0cbbd2ee",
   "metadata": {},
   "source": [
    "### Q4. Can Gaussian Naive Bayes be used for multi-class classification?"
   ]
  },
  {
   "cell_type": "markdown",
   "id": "af7acfaf",
   "metadata": {},
   "source": [
    "#### Gaussian Naive Bayes:\n",
    "1. Use Case: Typically used for continuous data and assumes features follow a Gaussian distribution.\n",
    "2. Multi-class Classification: Yes, Gaussian Naive Bayes can be used for multi-class classification problems.\n",
    "3. Implementation: In the multi-class setting, it extends naturally to handle multiple classes by estimating class-specific mean and variance for each feature."
   ]
  }
 ],
 "metadata": {
  "kernelspec": {
   "display_name": "Python 3 (ipykernel)",
   "language": "python",
   "name": "python3"
  },
  "language_info": {
   "codemirror_mode": {
    "name": "ipython",
    "version": 3
   },
   "file_extension": ".py",
   "mimetype": "text/x-python",
   "name": "python",
   "nbconvert_exporter": "python",
   "pygments_lexer": "ipython3",
   "version": "3.11.5"
  }
 },
 "nbformat": 4,
 "nbformat_minor": 5
}
